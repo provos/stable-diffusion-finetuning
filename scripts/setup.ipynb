{
 "cells": [
  {
   "cell_type": "markdown",
   "metadata": {},
   "source": [
    "PreRequisites\n",
    "---\n",
    "Need to manually install python into vscode and bootstrap below\n",
    "~~~\n",
    "sudo apt update\n",
    "sudo apt install python3-pip git\n",
    "~~~\n",
    "\n",
    "Also ssh to git@github.com first"
   ]
  },
  {
   "cell_type": "code",
   "execution_count": 9,
   "metadata": {},
   "outputs": [],
   "source": [
    "import sys, os\n",
    "from pathlib import Path\n",
    "\n",
    "# For LambdaVMs we want to keep the cache on the persistent filesystem\n",
    "mount_dir=Path('/home/ubuntu/niels-data')\n",
    "\n",
    "cache_dir = mount_dir / 'cache'\n",
    "hub_dir = mount_dir / 'cache/huggingface/hub'\n",
    "os.makedirs(hub_dir, exist_ok=True)\n",
    "os.environ['HF_DATASETS_CACHE'] = str(cache_dir)\n",
    "os.environ['HUGGINGFACE_HUB_CACHE'] = str(hub_dir)\n",
    "path = f'{os.environ[\"PATH\"]}:{os.path.expanduser(\"~/.local/bin\")}'\n",
    "os.environ['PATH'] = path"
   ]
  },
  {
   "cell_type": "markdown",
   "metadata": {},
   "source": [
    "Get dependencies for the project\n",
    "---"
   ]
  },
  {
   "cell_type": "code",
   "execution_count": null,
   "metadata": {},
   "outputs": [],
   "source": [
    "!cd /home/ubuntu/niels-data\n",
    "%mkdir -p \"cache/huggingface/hub\"\n",
    "!git clone --recurse-submodules git@github.com:provos/stable-diffusion-finetuning.git\n",
    "%cd stable-diffusion-finetuning\n",
    "!pip install --upgrade pip\n",
    "!pip install -r requirements.txt\n",
    "\n",
    "!pip install --upgrade keras # on lambda stack we need to upgrade keras"
   ]
  },
  {
   "cell_type": "markdown",
   "metadata": {},
   "source": [
    "Cache the big CLIP model that usually fails to download\n",
    "---"
   ]
  },
  {
   "cell_type": "code",
   "execution_count": 8,
   "metadata": {},
   "outputs": [
    {
     "data": {
      "application/vnd.jupyter.widget-view+json": {
       "model_id": "cde34ba5ead748329107f434694e79d6",
       "version_major": 2,
       "version_minor": 0
      },
      "text/plain": [
       "Downloading:   0%|          | 0.00/1.71G [00:00<?, ?B/s]"
      ]
     },
     "metadata": {},
     "output_type": "display_data"
    },
    {
     "data": {
      "text/plain": [
       "'/home/ubuntu/niels-data/cache/huggingface/hub/models--openai--clip-vit-large-patch14/snapshots/8d052a0f05efbaefbc9e8786ba291cfdf93e5bff/pytorch_model.bin'"
      ]
     },
     "execution_count": 8,
     "metadata": {},
     "output_type": "execute_result"
    }
   ],
   "source": [
    "from huggingface_hub import scan_cache_dir, hf_hub_download\n",
    "\n",
    "hf_cache_info = scan_cache_dir()\n",
    "\n",
    "hf_hub_download(repo_id=\"openai/clip-vit-large-patch14\", filename=\"pytorch_model.bin\", resume_download=True)"
   ]
  }
 ],
 "metadata": {
  "kernelspec": {
   "display_name": "Python 3.8.10 64-bit",
   "language": "python",
   "name": "python3"
  },
  "language_info": {
   "codemirror_mode": {
    "name": "ipython",
    "version": 3
   },
   "file_extension": ".py",
   "mimetype": "text/x-python",
   "name": "python",
   "nbconvert_exporter": "python",
   "pygments_lexer": "ipython3",
   "version": "3.10.6"
  },
  "orig_nbformat": 4,
  "vscode": {
   "interpreter": {
    "hash": "31f2aee4e71d21fbe5cf8b01ff0e069b9275f58929596ceb00d14d90e3e16cd6"
   }
  }
 },
 "nbformat": 4,
 "nbformat_minor": 2
}
