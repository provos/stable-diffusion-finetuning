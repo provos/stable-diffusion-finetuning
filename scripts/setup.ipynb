{
 "cells": [
  {
   "cell_type": "markdown",
   "metadata": {},
   "source": [
    "PreRequisites\n",
    "---\n",
    "Need to manually install python into vscode and bootstrap below\n",
    "~~~\n",
    "sudo apt update\n",
    "sudo apt install python3-pip git\n",
    "~~~\n",
    "\n",
    "Also ssh to git@github.com first"
   ]
  },
  {
   "cell_type": "code",
   "execution_count": 1,
   "metadata": {},
   "outputs": [],
   "source": [
    "import sys, os\n",
    "from pathlib import Path\n",
    "\n",
    "# For LambdaVMs we want to keep the cache on the persistent filesystem\n",
    "mount_dir=Path('/home/ubuntu/niels-data')\n",
    "\n",
    "cache_dir = mount_dir / 'cache'\n",
    "hub_dir = mount_dir / 'cache/huggingface/hub'\n",
    "os.makedirs(hub_dir, exist_ok=True)\n",
    "os.environ['HF_DATASETS_CACHE'] = str(cache_dir)\n",
    "os.environ['HUGGINGFACE_HUB_CACHE'] = str(hub_dir)\n",
    "path = f'{os.environ[\"PATH\"]}:{os.path.expanduser(\"~/.local/bin\")}'\n",
    "os.environ['PATH'] = path"
   ]
  },
  {
   "cell_type": "markdown",
   "metadata": {},
   "source": [
    "Get dependencies for the project\n",
    "---"
   ]
  },
  {
   "cell_type": "code",
   "execution_count": 2,
   "metadata": {},
   "outputs": [
    {
     "name": "stdout",
     "output_type": "stream",
     "text": [
      "/home/provos/src\n",
      "Cloning into 'stable-diffusion-finetuning'...\n",
      "remote: Enumerating objects: 1672, done.\u001b[K\n",
      "remote: Counting objects: 100% (762/762), done.\u001b[K\n",
      "remote: Compressing objects: 100% (85/85), done.\u001b[K\n",
      "remote: Total 1672 (delta 712), reused 695 (delta 677), pack-reused 910\u001b[K\n",
      "Receiving objects: 100% (1672/1672), 73.86 MiB | 9.89 MiB/s, done.\n",
      "Resolving deltas: 100% (1045/1045), done.\n",
      "Submodule 'twitterdownloader' (git@github.com:provos/twitterdownloader.git) registered for path 'twitterdownloader'\n",
      "Cloning into '/home/provos/src/stable-diffusion-finetuning/twitterdownloader'...\n",
      "remote: Enumerating objects: 2868, done.        \n",
      "remote: Counting objects: 100% (253/253), done.        \n",
      "remote: Compressing objects: 100% (230/230), done.        \n",
      "remote: Total 2868 (delta 10), reused 230 (delta 10), pack-reused 2615        \n",
      "Receiving objects: 100% (2868/2868), 341.84 MiB | 9.90 MiB/s, done.\n",
      "Resolving deltas: 100% (136/136), done.\n",
      "Submodule path 'twitterdownloader': checked out '144da5792d6a9f8dc44abd043339726072f1958d'\n",
      "/home/provos/src/stable-diffusion-finetuning\n",
      "Defaulting to user installation because normal site-packages is not writeable\n",
      "Requirement already satisfied: pip in /home/provos/.local/lib/python3.10/site-packages (22.3.1)\n",
      "Defaulting to user installation because normal site-packages is not writeable\n",
      "Looking in indexes: https://pypi.org/simple, https://download.pytorch.org/whl/cu113\n",
      "Obtaining taming-transformers from git+https://github.com/CompVis/taming-transformers.git@master#egg=taming-transformers (from -r requirements.txt (line 25))\n",
      "  Cloning https://github.com/CompVis/taming-transformers.git (to revision master) to ./src/taming-transformers\n",
      "  Running command git clone --filter=blob:none --quiet https://github.com/CompVis/taming-transformers.git /home/provos/src/stable-diffusion-finetuning/src/taming-transformers\n",
      "  Resolved https://github.com/CompVis/taming-transformers.git to commit 3ba01b241669f5ade541ce990f7650a3b8f65318\n",
      "  Preparing metadata (setup.py) ... \u001b[?25ldone\n",
      "\u001b[?25hObtaining clip from git+https://github.com/openai/CLIP.git@main#egg=clip (from -r requirements.txt (line 26))\n",
      "  Cloning https://github.com/openai/CLIP.git (to revision main) to ./src/clip\n",
      "  Running command git clone --filter=blob:none --quiet https://github.com/openai/CLIP.git /home/provos/src/stable-diffusion-finetuning/src/clip\n",
      "  Resolved https://github.com/openai/CLIP.git to commit d50d76daa670286dd6cacf3bcd80b5e4823fc8e1\n",
      "  Preparing metadata (setup.py) ... \u001b[?25ldone\n",
      "\u001b[?25hObtaining nomi from git+https://github.com/justinpinkney/nomi.git@e9ded23b7e2269cc64d39683e1bf3c0319f552ab#egg=nomi (from -r requirements.txt (line 27))\n",
      "  Cloning https://github.com/justinpinkney/nomi.git (to revision e9ded23b7e2269cc64d39683e1bf3c0319f552ab) to ./src/nomi\n",
      "  Running command git clone --filter=blob:none --quiet https://github.com/justinpinkney/nomi.git /home/provos/src/stable-diffusion-finetuning/src/nomi\n",
      "  Running command git rev-parse -q --verify 'sha^e9ded23b7e2269cc64d39683e1bf3c0319f552ab'\n",
      "  Running command git fetch -q https://github.com/justinpinkney/nomi.git e9ded23b7e2269cc64d39683e1bf3c0319f552ab\n",
      "  Resolved https://github.com/justinpinkney/nomi.git to commit e9ded23b7e2269cc64d39683e1bf3c0319f552ab\n",
      "  Installing build dependencies ... \u001b[?25ldone\n",
      "\u001b[?25h  Checking if build backend supports build_editable ... \u001b[?25ldone\n",
      "\u001b[?25h  Getting requirements to build editable ... \u001b[?25ldone\n",
      "\u001b[?25h  Preparing editable metadata (pyproject.toml) ... \u001b[?25ldone\n",
      "\u001b[?25hObtaining file:///home/provos/src/stable-diffusion-finetuning (from -r requirements.txt (line 28))\n",
      "  Preparing metadata (setup.py) ... \u001b[?25ldone\n",
      "\u001b[?25hRequirement already satisfied: torch==1.12.1 in /home/provos/.local/lib/python3.10/site-packages (from -r requirements.txt (line 2)) (1.12.1+cu113)\n",
      "Requirement already satisfied: torchvision==0.13.1 in /home/provos/.local/lib/python3.10/site-packages (from -r requirements.txt (line 3)) (0.13.1+cu113)\n",
      "Requirement already satisfied: albumentations==0.4.3 in /home/provos/.local/lib/python3.10/site-packages (from -r requirements.txt (line 4)) (0.4.3)\n",
      "Requirement already satisfied: opencv-python==4.5.5.64 in /home/provos/.local/lib/python3.10/site-packages (from -r requirements.txt (line 5)) (4.5.5.64)\n",
      "Requirement already satisfied: pudb==2019.2 in /home/provos/.local/lib/python3.10/site-packages (from -r requirements.txt (line 6)) (2019.2)\n",
      "Requirement already satisfied: imageio==2.9.0 in /home/provos/.local/lib/python3.10/site-packages (from -r requirements.txt (line 7)) (2.9.0)\n",
      "Requirement already satisfied: imageio-ffmpeg==0.4.2 in /home/provos/.local/lib/python3.10/site-packages (from -r requirements.txt (line 8)) (0.4.2)\n",
      "Requirement already satisfied: pytorch-lightning==1.4.2 in /home/provos/.local/lib/python3.10/site-packages (from -r requirements.txt (line 9)) (1.4.2)\n",
      "Requirement already satisfied: omegaconf==2.1.1 in /home/provos/.local/lib/python3.10/site-packages (from -r requirements.txt (line 10)) (2.1.1)\n",
      "Requirement already satisfied: test-tube>=0.7.5 in /home/provos/.local/lib/python3.10/site-packages (from -r requirements.txt (line 11)) (0.7.5)\n",
      "Requirement already satisfied: streamlit>=0.73.1 in /home/provos/.local/lib/python3.10/site-packages (from -r requirements.txt (line 12)) (1.15.2)\n",
      "Requirement already satisfied: einops==0.3.0 in /home/provos/.local/lib/python3.10/site-packages (from -r requirements.txt (line 13)) (0.3.0)\n",
      "Requirement already satisfied: torch-fidelity==0.3.0 in /home/provos/.local/lib/python3.10/site-packages (from -r requirements.txt (line 14)) (0.3.0)\n",
      "Requirement already satisfied: transformers==4.22.2 in /home/provos/.local/lib/python3.10/site-packages (from -r requirements.txt (line 15)) (4.22.2)\n",
      "Requirement already satisfied: kornia==0.6 in /home/provos/.local/lib/python3.10/site-packages (from -r requirements.txt (line 16)) (0.6.0)\n",
      "Requirement already satisfied: webdataset==0.2.5 in /home/provos/.local/lib/python3.10/site-packages (from -r requirements.txt (line 17)) (0.2.5)\n",
      "Requirement already satisfied: torchmetrics==0.6.0 in /home/provos/.local/lib/python3.10/site-packages (from -r requirements.txt (line 18)) (0.6.0)\n",
      "Requirement already satisfied: fire==0.4.0 in /home/provos/.local/lib/python3.10/site-packages (from -r requirements.txt (line 19)) (0.4.0)\n",
      "Requirement already satisfied: gradio==3.1.4 in /home/provos/.local/lib/python3.10/site-packages (from -r requirements.txt (line 20)) (3.1.4)\n",
      "Requirement already satisfied: diffusers==0.3.0 in /home/provos/.local/lib/python3.10/site-packages (from -r requirements.txt (line 21)) (0.3.0)\n",
      "Requirement already satisfied: huggingface-hub==0.11.0 in /home/provos/.local/lib/python3.10/site-packages (from -r requirements.txt (line 22)) (0.11.0)\n",
      "Requirement already satisfied: datasets[vision]==2.4.0 in /home/provos/.local/lib/python3.10/site-packages (from -r requirements.txt (line 23)) (2.4.0)\n",
      "Requirement already satisfied: ipywidgets==8.0.2 in /home/provos/.local/lib/python3.10/site-packages (from -r requirements.txt (line 24)) (8.0.2)\n",
      "Requirement already satisfied: typing-extensions in /home/provos/.local/lib/python3.10/site-packages (from torch==1.12.1->-r requirements.txt (line 2)) (4.4.0)\n",
      "Requirement already satisfied: pillow!=8.3.*,>=5.3.0 in /usr/lib/python3/dist-packages (from torchvision==0.13.1->-r requirements.txt (line 3)) (9.0.1)\n",
      "Requirement already satisfied: requests in /usr/lib/python3/dist-packages (from torchvision==0.13.1->-r requirements.txt (line 3)) (2.25.1)\n",
      "Requirement already satisfied: numpy in /home/provos/.local/lib/python3.10/site-packages (from torchvision==0.13.1->-r requirements.txt (line 3)) (1.23.5)\n",
      "Requirement already satisfied: scipy in /home/provos/.local/lib/python3.10/site-packages (from albumentations==0.4.3->-r requirements.txt (line 4)) (1.9.3)\n",
      "Requirement already satisfied: opencv-python-headless>=4.1.1 in /home/provos/.local/lib/python3.10/site-packages (from albumentations==0.4.3->-r requirements.txt (line 4)) (4.6.0.66)\n",
      "Requirement already satisfied: PyYAML in /usr/lib/python3/dist-packages (from albumentations==0.4.3->-r requirements.txt (line 4)) (5.4.1)\n",
      "Requirement already satisfied: imgaug<0.2.7,>=0.2.5 in /home/provos/.local/lib/python3.10/site-packages (from albumentations==0.4.3->-r requirements.txt (line 4)) (0.2.6)\n",
      "Requirement already satisfied: pygments>=1.0 in /home/provos/.local/lib/python3.10/site-packages (from pudb==2019.2->-r requirements.txt (line 6)) (2.13.0)\n",
      "Requirement already satisfied: urwid>=1.1.1 in /home/provos/.local/lib/python3.10/site-packages (from pudb==2019.2->-r requirements.txt (line 6)) (2.1.2)\n",
      "Requirement already satisfied: fsspec[http]!=2021.06.0,>=2021.05.0 in /home/provos/.local/lib/python3.10/site-packages (from pytorch-lightning==1.4.2->-r requirements.txt (line 9)) (2022.11.0)\n",
      "Requirement already satisfied: tqdm>=4.41.0 in /home/provos/.local/lib/python3.10/site-packages (from pytorch-lightning==1.4.2->-r requirements.txt (line 9)) (4.64.1)\n",
      "Requirement already satisfied: future>=0.17.1 in /usr/lib/python3/dist-packages (from pytorch-lightning==1.4.2->-r requirements.txt (line 9)) (0.18.2)\n",
      "Requirement already satisfied: packaging>=17.0 in /home/provos/.local/lib/python3.10/site-packages (from pytorch-lightning==1.4.2->-r requirements.txt (line 9)) (21.3)\n",
      "Requirement already satisfied: pyDeprecate==0.3.1 in /home/provos/.local/lib/python3.10/site-packages (from pytorch-lightning==1.4.2->-r requirements.txt (line 9)) (0.3.1)\n",
      "Requirement already satisfied: tensorboard>=2.2.0 in /home/provos/.local/lib/python3.10/site-packages (from pytorch-lightning==1.4.2->-r requirements.txt (line 9)) (2.11.0)\n",
      "Requirement already satisfied: antlr4-python3-runtime==4.8 in /home/provos/.local/lib/python3.10/site-packages (from omegaconf==2.1.1->-r requirements.txt (line 10)) (4.8)\n",
      "Requirement already satisfied: tokenizers!=0.11.3,<0.13,>=0.11.1 in /home/provos/.local/lib/python3.10/site-packages (from transformers==4.22.2->-r requirements.txt (line 15)) (0.12.1)\n",
      "Requirement already satisfied: regex!=2019.12.17 in /home/provos/.local/lib/python3.10/site-packages (from transformers==4.22.2->-r requirements.txt (line 15)) (2022.10.31)\n",
      "Requirement already satisfied: filelock in /home/provos/.local/lib/python3.10/site-packages (from transformers==4.22.2->-r requirements.txt (line 15)) (3.8.0)\n",
      "Requirement already satisfied: braceexpand in /home/provos/.local/lib/python3.10/site-packages (from webdataset==0.2.5->-r requirements.txt (line 17)) (0.1.7)\n",
      "Requirement already satisfied: termcolor in /home/provos/.local/lib/python3.10/site-packages (from fire==0.4.0->-r requirements.txt (line 19)) (2.1.1)\n",
      "Requirement already satisfied: six in /usr/lib/python3/dist-packages (from fire==0.4.0->-r requirements.txt (line 19)) (1.16.0)\n",
      "Requirement already satisfied: uvicorn in /home/provos/.local/lib/python3.10/site-packages (from gradio==3.1.4->-r requirements.txt (line 20)) (0.20.0)\n",
      "Requirement already satisfied: httpx in /home/provos/.local/lib/python3.10/site-packages (from gradio==3.1.4->-r requirements.txt (line 20)) (0.23.1)\n",
      "Requirement already satisfied: paramiko in /usr/lib/python3/dist-packages (from gradio==3.1.4->-r requirements.txt (line 20)) (2.9.3)\n",
      "Requirement already satisfied: orjson in /home/provos/.local/lib/python3.10/site-packages (from gradio==3.1.4->-r requirements.txt (line 20)) (3.8.3)\n",
      "Requirement already satisfied: pycryptodome in /home/provos/.local/lib/python3.10/site-packages (from gradio==3.1.4->-r requirements.txt (line 20)) (3.16.0)\n",
      "Requirement already satisfied: Jinja2 in /home/provos/.local/lib/python3.10/site-packages (from gradio==3.1.4->-r requirements.txt (line 20)) (3.1.2)\n",
      "Requirement already satisfied: ffmpy in /home/provos/.local/lib/python3.10/site-packages (from gradio==3.1.4->-r requirements.txt (line 20)) (0.3.0)\n",
      "Requirement already satisfied: h11<0.13,>=0.11 in /home/provos/.local/lib/python3.10/site-packages (from gradio==3.1.4->-r requirements.txt (line 20)) (0.12.0)\n",
      "Requirement already satisfied: aiohttp in /home/provos/.local/lib/python3.10/site-packages (from gradio==3.1.4->-r requirements.txt (line 20)) (3.8.3)\n",
      "Requirement already satisfied: markdown-it-py[linkify,plugins] in /home/provos/.local/lib/python3.10/site-packages (from gradio==3.1.4->-r requirements.txt (line 20)) (2.1.0)\n",
      "Requirement already satisfied: matplotlib in /home/provos/.local/lib/python3.10/site-packages (from gradio==3.1.4->-r requirements.txt (line 20)) (3.6.2)\n",
      "Requirement already satisfied: pydub in /home/provos/.local/lib/python3.10/site-packages (from gradio==3.1.4->-r requirements.txt (line 20)) (0.25.1)\n",
      "Requirement already satisfied: pandas in /home/provos/.local/lib/python3.10/site-packages (from gradio==3.1.4->-r requirements.txt (line 20)) (1.5.2)\n",
      "Requirement already satisfied: python-multipart in /home/provos/.local/lib/python3.10/site-packages (from gradio==3.1.4->-r requirements.txt (line 20)) (0.0.5)\n",
      "Requirement already satisfied: analytics-python in /home/provos/.local/lib/python3.10/site-packages (from gradio==3.1.4->-r requirements.txt (line 20)) (1.4.0)\n",
      "Requirement already satisfied: pydantic in /home/provos/.local/lib/python3.10/site-packages (from gradio==3.1.4->-r requirements.txt (line 20)) (1.10.2)\n",
      "Requirement already satisfied: fastapi in /home/provos/.local/lib/python3.10/site-packages (from gradio==3.1.4->-r requirements.txt (line 20)) (0.88.0)\n",
      "Requirement already satisfied: importlib-metadata in /usr/lib/python3/dist-packages (from diffusers==0.3.0->-r requirements.txt (line 21)) (4.6.4)\n",
      "Requirement already satisfied: multiprocess in /home/provos/.local/lib/python3.10/site-packages (from datasets[vision]==2.4.0->-r requirements.txt (line 23)) (0.70.13)\n",
      "Requirement already satisfied: xxhash in /home/provos/.local/lib/python3.10/site-packages (from datasets[vision]==2.4.0->-r requirements.txt (line 23)) (3.1.0)\n",
      "Requirement already satisfied: pyarrow>=6.0.0 in /home/provos/.local/lib/python3.10/site-packages (from datasets[vision]==2.4.0->-r requirements.txt (line 23)) (10.0.1)\n",
      "Requirement already satisfied: responses<0.19 in /home/provos/.local/lib/python3.10/site-packages (from datasets[vision]==2.4.0->-r requirements.txt (line 23)) (0.18.0)\n",
      "Requirement already satisfied: dill<0.3.6 in /home/provos/.local/lib/python3.10/site-packages (from datasets[vision]==2.4.0->-r requirements.txt (line 23)) (0.3.5.1)\n",
      "Requirement already satisfied: ipython>=6.1.0 in /home/provos/.local/lib/python3.10/site-packages (from ipywidgets==8.0.2->-r requirements.txt (line 24)) (8.7.0)\n",
      "Requirement already satisfied: traitlets>=4.3.1 in /home/provos/.local/lib/python3.10/site-packages (from ipywidgets==8.0.2->-r requirements.txt (line 24)) (5.6.0)\n",
      "Requirement already satisfied: jupyterlab-widgets~=3.0 in /home/provos/.local/lib/python3.10/site-packages (from ipywidgets==8.0.2->-r requirements.txt (line 24)) (3.0.3)\n",
      "Requirement already satisfied: ipykernel>=4.5.1 in /home/provos/.local/lib/python3.10/site-packages (from ipywidgets==8.0.2->-r requirements.txt (line 24)) (6.17.1)\n",
      "Requirement already satisfied: widgetsnbextension~=4.0 in /home/provos/.local/lib/python3.10/site-packages (from ipywidgets==8.0.2->-r requirements.txt (line 24)) (4.0.3)\n",
      "Requirement already satisfied: blinker>=1.0.0 in /usr/lib/python3/dist-packages (from streamlit>=0.73.1->-r requirements.txt (line 12)) (1.4)\n",
      "Requirement already satisfied: toml in /home/provos/.local/lib/python3.10/site-packages (from streamlit>=0.73.1->-r requirements.txt (line 12)) (0.10.2)\n",
      "Requirement already satisfied: click>=7.0 in /usr/lib/python3/dist-packages (from streamlit>=0.73.1->-r requirements.txt (line 12)) (8.0.3)\n",
      "Requirement already satisfied: pympler>=0.9 in /home/provos/.local/lib/python3.10/site-packages (from streamlit>=0.73.1->-r requirements.txt (line 12)) (1.0.1)\n",
      "Requirement already satisfied: python-dateutil in /home/provos/.local/lib/python3.10/site-packages (from streamlit>=0.73.1->-r requirements.txt (line 12)) (2.8.2)\n",
      "Requirement already satisfied: cachetools>=4.0 in /home/provos/.local/lib/python3.10/site-packages (from streamlit>=0.73.1->-r requirements.txt (line 12)) (5.2.0)\n",
      "Requirement already satisfied: pydeck>=0.1.dev5 in /home/provos/.local/lib/python3.10/site-packages (from streamlit>=0.73.1->-r requirements.txt (line 12)) (0.8.0)\n",
      "Requirement already satisfied: watchdog in /home/provos/.local/lib/python3.10/site-packages (from streamlit>=0.73.1->-r requirements.txt (line 12)) (2.1.9)\n",
      "Requirement already satisfied: rich>=10.11.0 in /home/provos/.local/lib/python3.10/site-packages (from streamlit>=0.73.1->-r requirements.txt (line 12)) (12.6.0)\n",
      "Requirement already satisfied: semver in /home/provos/.local/lib/python3.10/site-packages (from streamlit>=0.73.1->-r requirements.txt (line 12)) (2.13.0)\n",
      "Requirement already satisfied: gitpython!=3.1.19 in /home/provos/.local/lib/python3.10/site-packages (from streamlit>=0.73.1->-r requirements.txt (line 12)) (3.1.29)\n",
      "Requirement already satisfied: protobuf<4,>=3.12 in /usr/lib/python3/dist-packages (from streamlit>=0.73.1->-r requirements.txt (line 12)) (3.12.4)\n",
      "Requirement already satisfied: tzlocal>=1.1 in /home/provos/.local/lib/python3.10/site-packages (from streamlit>=0.73.1->-r requirements.txt (line 12)) (4.2)\n",
      "Requirement already satisfied: altair>=3.2.0 in /home/provos/.local/lib/python3.10/site-packages (from streamlit>=0.73.1->-r requirements.txt (line 12)) (4.2.0)\n",
      "Requirement already satisfied: tornado>=5.0 in /home/provos/.local/lib/python3.10/site-packages (from streamlit>=0.73.1->-r requirements.txt (line 12)) (6.2)\n",
      "Requirement already satisfied: validators>=0.2 in /home/provos/.local/lib/python3.10/site-packages (from streamlit>=0.73.1->-r requirements.txt (line 12)) (0.20.0)\n",
      "Requirement already satisfied: ftfy in /home/provos/.local/lib/python3.10/site-packages (from clip->-r requirements.txt (line 26)) (6.1.1)\n",
      "Requirement already satisfied: entrypoints in /home/provos/.local/lib/python3.10/site-packages (from altair>=3.2.0->streamlit>=0.73.1->-r requirements.txt (line 12)) (0.4)\n",
      "Requirement already satisfied: toolz in /home/provos/.local/lib/python3.10/site-packages (from altair>=3.2.0->streamlit>=0.73.1->-r requirements.txt (line 12)) (0.12.0)\n",
      "Requirement already satisfied: jsonschema>=3.0 in /home/provos/.local/lib/python3.10/site-packages (from altair>=3.2.0->streamlit>=0.73.1->-r requirements.txt (line 12)) (4.17.3)\n",
      "Requirement already satisfied: multidict<7.0,>=4.5 in /home/provos/.local/lib/python3.10/site-packages (from aiohttp->gradio==3.1.4->-r requirements.txt (line 20)) (6.0.2)\n",
      "Requirement already satisfied: aiosignal>=1.1.2 in /home/provos/.local/lib/python3.10/site-packages (from aiohttp->gradio==3.1.4->-r requirements.txt (line 20)) (1.3.1)\n",
      "Requirement already satisfied: yarl<2.0,>=1.0 in /home/provos/.local/lib/python3.10/site-packages (from aiohttp->gradio==3.1.4->-r requirements.txt (line 20)) (1.8.1)\n",
      "Requirement already satisfied: frozenlist>=1.1.1 in /home/provos/.local/lib/python3.10/site-packages (from aiohttp->gradio==3.1.4->-r requirements.txt (line 20)) (1.3.3)\n",
      "Requirement already satisfied: async-timeout<5.0,>=4.0.0a3 in /home/provos/.local/lib/python3.10/site-packages (from aiohttp->gradio==3.1.4->-r requirements.txt (line 20)) (4.0.2)\n",
      "Requirement already satisfied: charset-normalizer<3.0,>=2.0 in /home/provos/.local/lib/python3.10/site-packages (from aiohttp->gradio==3.1.4->-r requirements.txt (line 20)) (2.1.1)\n",
      "Requirement already satisfied: attrs>=17.3.0 in /home/provos/.local/lib/python3.10/site-packages (from aiohttp->gradio==3.1.4->-r requirements.txt (line 20)) (22.1.0)\n",
      "Requirement already satisfied: gitdb<5,>=4.0.1 in /home/provos/.local/lib/python3.10/site-packages (from gitpython!=3.1.19->streamlit>=0.73.1->-r requirements.txt (line 12)) (4.0.10)\n",
      "Requirement already satisfied: scikit-image>=0.11.0 in /home/provos/.local/lib/python3.10/site-packages (from imgaug<0.2.7,>=0.2.5->albumentations==0.4.3->-r requirements.txt (line 4)) (0.19.3)\n",
      "Requirement already satisfied: debugpy>=1.0 in /home/provos/.local/lib/python3.10/site-packages (from ipykernel>=4.5.1->ipywidgets==8.0.2->-r requirements.txt (line 24)) (1.6.4)\n",
      "Requirement already satisfied: matplotlib-inline>=0.1 in /home/provos/.local/lib/python3.10/site-packages (from ipykernel>=4.5.1->ipywidgets==8.0.2->-r requirements.txt (line 24)) (0.1.6)\n",
      "Requirement already satisfied: psutil in /home/provos/.local/lib/python3.10/site-packages (from ipykernel>=4.5.1->ipywidgets==8.0.2->-r requirements.txt (line 24)) (5.9.4)\n",
      "Requirement already satisfied: pyzmq>=17 in /home/provos/.local/lib/python3.10/site-packages (from ipykernel>=4.5.1->ipywidgets==8.0.2->-r requirements.txt (line 24)) (24.0.1)\n",
      "Requirement already satisfied: nest-asyncio in /home/provos/.local/lib/python3.10/site-packages (from ipykernel>=4.5.1->ipywidgets==8.0.2->-r requirements.txt (line 24)) (1.5.6)\n",
      "Requirement already satisfied: jupyter-client>=6.1.12 in /home/provos/.local/lib/python3.10/site-packages (from ipykernel>=4.5.1->ipywidgets==8.0.2->-r requirements.txt (line 24)) (7.4.7)\n",
      "Requirement already satisfied: backcall in /home/provos/.local/lib/python3.10/site-packages (from ipython>=6.1.0->ipywidgets==8.0.2->-r requirements.txt (line 24)) (0.2.0)\n",
      "Requirement already satisfied: pexpect>4.3 in /usr/lib/python3/dist-packages (from ipython>=6.1.0->ipywidgets==8.0.2->-r requirements.txt (line 24)) (4.8.0)\n",
      "Requirement already satisfied: decorator in /home/provos/.local/lib/python3.10/site-packages (from ipython>=6.1.0->ipywidgets==8.0.2->-r requirements.txt (line 24)) (5.1.1)\n",
      "Requirement already satisfied: jedi>=0.16 in /home/provos/.local/lib/python3.10/site-packages (from ipython>=6.1.0->ipywidgets==8.0.2->-r requirements.txt (line 24)) (0.18.2)\n",
      "Requirement already satisfied: pickleshare in /home/provos/.local/lib/python3.10/site-packages (from ipython>=6.1.0->ipywidgets==8.0.2->-r requirements.txt (line 24)) (0.7.5)\n",
      "Requirement already satisfied: stack-data in /home/provos/.local/lib/python3.10/site-packages (from ipython>=6.1.0->ipywidgets==8.0.2->-r requirements.txt (line 24)) (0.6.2)\n",
      "Requirement already satisfied: prompt-toolkit<3.1.0,>=3.0.11 in /home/provos/.local/lib/python3.10/site-packages (from ipython>=6.1.0->ipywidgets==8.0.2->-r requirements.txt (line 24)) (3.0.33)\n",
      "Requirement already satisfied: pyparsing!=3.0.5,>=2.0.2 in /usr/lib/python3/dist-packages (from packaging>=17.0->pytorch-lightning==1.4.2->-r requirements.txt (line 9)) (2.4.7)\n",
      "Requirement already satisfied: pytz>=2020.1 in /usr/lib/python3/dist-packages (from pandas->gradio==3.1.4->-r requirements.txt (line 20)) (2022.1)\n",
      "Requirement already satisfied: MarkupSafe>=2.0 in /home/provos/.local/lib/python3.10/site-packages (from Jinja2->gradio==3.1.4->-r requirements.txt (line 20)) (2.1.1)\n",
      "Requirement already satisfied: urllib3>=1.25.10 in /usr/lib/python3/dist-packages (from responses<0.19->datasets[vision]==2.4.0->-r requirements.txt (line 23)) (1.26.5)\n",
      "Requirement already satisfied: commonmark<0.10.0,>=0.9.0 in /home/provos/.local/lib/python3.10/site-packages (from rich>=10.11.0->streamlit>=0.73.1->-r requirements.txt (line 12)) (0.9.1)\n",
      "Requirement already satisfied: setuptools>=41.0.0 in /usr/lib/python3/dist-packages (from tensorboard>=2.2.0->pytorch-lightning==1.4.2->-r requirements.txt (line 9)) (59.6.0)\n",
      "Requirement already satisfied: tensorboard-data-server<0.7.0,>=0.6.0 in /home/provos/.local/lib/python3.10/site-packages (from tensorboard>=2.2.0->pytorch-lightning==1.4.2->-r requirements.txt (line 9)) (0.6.1)\n",
      "Requirement already satisfied: wheel>=0.26 in /usr/lib/python3/dist-packages (from tensorboard>=2.2.0->pytorch-lightning==1.4.2->-r requirements.txt (line 9)) (0.37.1)\n",
      "Requirement already satisfied: werkzeug>=1.0.1 in /home/provos/.local/lib/python3.10/site-packages (from tensorboard>=2.2.0->pytorch-lightning==1.4.2->-r requirements.txt (line 9)) (2.2.2)\n",
      "Requirement already satisfied: google-auth-oauthlib<0.5,>=0.4.1 in /home/provos/.local/lib/python3.10/site-packages (from tensorboard>=2.2.0->pytorch-lightning==1.4.2->-r requirements.txt (line 9)) (0.4.6)\n",
      "Requirement already satisfied: absl-py>=0.4 in /home/provos/.local/lib/python3.10/site-packages (from tensorboard>=2.2.0->pytorch-lightning==1.4.2->-r requirements.txt (line 9)) (1.3.0)\n",
      "Requirement already satisfied: tensorboard-plugin-wit>=1.6.0 in /home/provos/.local/lib/python3.10/site-packages (from tensorboard>=2.2.0->pytorch-lightning==1.4.2->-r requirements.txt (line 9)) (1.8.1)\n",
      "Requirement already satisfied: markdown>=2.6.8 in /home/provos/.local/lib/python3.10/site-packages (from tensorboard>=2.2.0->pytorch-lightning==1.4.2->-r requirements.txt (line 9)) (3.4.1)\n",
      "Requirement already satisfied: google-auth<3,>=1.6.3 in /home/provos/.local/lib/python3.10/site-packages (from tensorboard>=2.2.0->pytorch-lightning==1.4.2->-r requirements.txt (line 9)) (2.15.0)\n",
      "Requirement already satisfied: grpcio>=1.24.3 in /home/provos/.local/lib/python3.10/site-packages (from tensorboard>=2.2.0->pytorch-lightning==1.4.2->-r requirements.txt (line 9)) (1.51.1)\n",
      "Requirement already satisfied: pytz-deprecation-shim in /home/provos/.local/lib/python3.10/site-packages (from tzlocal>=1.1->streamlit>=0.73.1->-r requirements.txt (line 12)) (0.1.0.post0)\n",
      "Requirement already satisfied: monotonic>=1.5 in /usr/lib/python3/dist-packages (from analytics-python->gradio==3.1.4->-r requirements.txt (line 20)) (1.6)\n",
      "Requirement already satisfied: backoff==1.10.0 in /home/provos/.local/lib/python3.10/site-packages (from analytics-python->gradio==3.1.4->-r requirements.txt (line 20)) (1.10.0)\n",
      "Requirement already satisfied: starlette==0.22.0 in /home/provos/.local/lib/python3.10/site-packages (from fastapi->gradio==3.1.4->-r requirements.txt (line 20)) (0.22.0)\n",
      "Requirement already satisfied: anyio<5,>=3.4.0 in /home/provos/.local/lib/python3.10/site-packages (from starlette==0.22.0->fastapi->gradio==3.1.4->-r requirements.txt (line 20)) (3.6.2)\n",
      "Requirement already satisfied: wcwidth>=0.2.5 in /home/provos/.local/lib/python3.10/site-packages (from ftfy->clip->-r requirements.txt (line 26)) (0.2.5)\n",
      "Requirement already satisfied: sniffio in /home/provos/.local/lib/python3.10/site-packages (from httpx->gradio==3.1.4->-r requirements.txt (line 20)) (1.3.0)\n",
      "Requirement already satisfied: certifi in /usr/lib/python3/dist-packages (from httpx->gradio==3.1.4->-r requirements.txt (line 20)) (2020.6.20)\n",
      "Requirement already satisfied: httpcore<0.17.0,>=0.15.0 in /home/provos/.local/lib/python3.10/site-packages (from httpx->gradio==3.1.4->-r requirements.txt (line 20)) (0.15.0)\n",
      "Requirement already satisfied: rfc3986[idna2008]<2,>=1.3 in /home/provos/.local/lib/python3.10/site-packages (from httpx->gradio==3.1.4->-r requirements.txt (line 20)) (1.5.0)\n",
      "Requirement already satisfied: mdurl~=0.1 in /home/provos/.local/lib/python3.10/site-packages (from markdown-it-py[linkify,plugins]->gradio==3.1.4->-r requirements.txt (line 20)) (0.1.2)\n",
      "Requirement already satisfied: linkify-it-py~=1.0 in /home/provos/.local/lib/python3.10/site-packages (from markdown-it-py[linkify,plugins]->gradio==3.1.4->-r requirements.txt (line 20)) (1.0.3)\n",
      "Requirement already satisfied: mdit-py-plugins in /home/provos/.local/lib/python3.10/site-packages (from markdown-it-py[linkify,plugins]->gradio==3.1.4->-r requirements.txt (line 20)) (0.3.1)\n",
      "Requirement already satisfied: kiwisolver>=1.0.1 in /home/provos/.local/lib/python3.10/site-packages (from matplotlib->gradio==3.1.4->-r requirements.txt (line 20)) (1.4.4)\n",
      "Requirement already satisfied: contourpy>=1.0.1 in /home/provos/.local/lib/python3.10/site-packages (from matplotlib->gradio==3.1.4->-r requirements.txt (line 20)) (1.0.6)\n",
      "Requirement already satisfied: fonttools>=4.22.0 in /home/provos/.local/lib/python3.10/site-packages (from matplotlib->gradio==3.1.4->-r requirements.txt (line 20)) (4.38.0)\n",
      "Requirement already satisfied: cycler>=0.10 in /home/provos/.local/lib/python3.10/site-packages (from matplotlib->gradio==3.1.4->-r requirements.txt (line 20)) (0.11.0)\n",
      "Requirement already satisfied: smmap<6,>=3.0.1 in /home/provos/.local/lib/python3.10/site-packages (from gitdb<5,>=4.0.1->gitpython!=3.1.19->streamlit>=0.73.1->-r requirements.txt (line 12)) (5.0.0)\n",
      "Requirement already satisfied: rsa<5,>=3.1.4 in /home/provos/.local/lib/python3.10/site-packages (from google-auth<3,>=1.6.3->tensorboard>=2.2.0->pytorch-lightning==1.4.2->-r requirements.txt (line 9)) (4.9)\n",
      "Requirement already satisfied: pyasn1-modules>=0.2.1 in /home/provos/.local/lib/python3.10/site-packages (from google-auth<3,>=1.6.3->tensorboard>=2.2.0->pytorch-lightning==1.4.2->-r requirements.txt (line 9)) (0.2.8)\n",
      "Requirement already satisfied: requests-oauthlib>=0.7.0 in /home/provos/.local/lib/python3.10/site-packages (from google-auth-oauthlib<0.5,>=0.4.1->tensorboard>=2.2.0->pytorch-lightning==1.4.2->-r requirements.txt (line 9)) (1.3.1)\n",
      "Requirement already satisfied: idna>=2.8 in /usr/lib/python3/dist-packages (from anyio<5,>=3.4.0->starlette==0.22.0->fastapi->gradio==3.1.4->-r requirements.txt (line 20)) (3.3)\n",
      "Requirement already satisfied: parso<0.9.0,>=0.8.0 in /home/provos/.local/lib/python3.10/site-packages (from jedi>=0.16->ipython>=6.1.0->ipywidgets==8.0.2->-r requirements.txt (line 24)) (0.8.3)\n",
      "Requirement already satisfied: pyrsistent!=0.17.0,!=0.17.1,!=0.17.2,>=0.14.0 in /home/provos/.local/lib/python3.10/site-packages (from jsonschema>=3.0->altair>=3.2.0->streamlit>=0.73.1->-r requirements.txt (line 12)) (0.19.2)\n",
      "Requirement already satisfied: jupyter-core>=4.9.2 in /home/provos/.local/lib/python3.10/site-packages (from jupyter-client>=6.1.12->ipykernel>=4.5.1->ipywidgets==8.0.2->-r requirements.txt (line 24)) (5.1.0)\n",
      "Requirement already satisfied: uc-micro-py in /home/provos/.local/lib/python3.10/site-packages (from linkify-it-py~=1.0->markdown-it-py[linkify,plugins]->gradio==3.1.4->-r requirements.txt (line 20)) (1.0.1)\n",
      "Requirement already satisfied: tifffile>=2019.7.26 in /home/provos/.local/lib/python3.10/site-packages (from scikit-image>=0.11.0->imgaug<0.2.7,>=0.2.5->albumentations==0.4.3->-r requirements.txt (line 4)) (2022.10.10)\n",
      "Requirement already satisfied: PyWavelets>=1.1.1 in /home/provos/.local/lib/python3.10/site-packages (from scikit-image>=0.11.0->imgaug<0.2.7,>=0.2.5->albumentations==0.4.3->-r requirements.txt (line 4)) (1.4.1)\n",
      "Requirement already satisfied: networkx>=2.2 in /home/provos/.local/lib/python3.10/site-packages (from scikit-image>=0.11.0->imgaug<0.2.7,>=0.2.5->albumentations==0.4.3->-r requirements.txt (line 4)) (2.8.8)\n",
      "Requirement already satisfied: tzdata in /home/provos/.local/lib/python3.10/site-packages (from pytz-deprecation-shim->tzlocal>=1.1->streamlit>=0.73.1->-r requirements.txt (line 12)) (2022.7)\n",
      "Requirement already satisfied: pure-eval in /home/provos/.local/lib/python3.10/site-packages (from stack-data->ipython>=6.1.0->ipywidgets==8.0.2->-r requirements.txt (line 24)) (0.2.2)\n",
      "Requirement already satisfied: executing>=1.2.0 in /home/provos/.local/lib/python3.10/site-packages (from stack-data->ipython>=6.1.0->ipywidgets==8.0.2->-r requirements.txt (line 24)) (1.2.0)\n",
      "Requirement already satisfied: asttokens>=2.1.0 in /home/provos/.local/lib/python3.10/site-packages (from stack-data->ipython>=6.1.0->ipywidgets==8.0.2->-r requirements.txt (line 24)) (2.2.0)\n",
      "Requirement already satisfied: platformdirs>=2.5 in /home/provos/.local/lib/python3.10/site-packages (from jupyter-core>=4.9.2->jupyter-client>=6.1.12->ipykernel>=4.5.1->ipywidgets==8.0.2->-r requirements.txt (line 24)) (2.5.4)\n",
      "Requirement already satisfied: pyasn1<0.5.0,>=0.4.6 in /home/provos/.local/lib/python3.10/site-packages (from pyasn1-modules>=0.2.1->google-auth<3,>=1.6.3->tensorboard>=2.2.0->pytorch-lightning==1.4.2->-r requirements.txt (line 9)) (0.4.8)\n",
      "Requirement already satisfied: oauthlib>=3.0.0 in /usr/lib/python3/dist-packages (from requests-oauthlib>=0.7.0->google-auth-oauthlib<0.5,>=0.4.1->tensorboard>=2.2.0->pytorch-lightning==1.4.2->-r requirements.txt (line 9)) (3.2.0)\n",
      "Building wheels for collected packages: nomi\n",
      "  Building editable for nomi (pyproject.toml) ... \u001b[?25ldone\n",
      "\u001b[?25h  Created wheel for nomi: filename=nomi-0.0.post1.dev2+ge9ded23-0.editable-py3-none-any.whl size=3127 sha256=5ad5d1c9244ba78e877d771e9f741d07abc78952e7574975200b8323191e0762\n",
      "  Stored in directory: /tmp/pip-ephem-wheel-cache-ldhb8pix/wheels/e9/5f/a8/bd9c6db9bb834a08b8fc9c62155057e6687a7b8781901bf5a8\n",
      "Successfully built nomi\n",
      "Installing collected packages: taming-transformers, nomi, latent-diffusion, clip\n",
      "  Running setup.py develop for taming-transformers\n",
      "  Attempting uninstall: nomi\n",
      "    Found existing installation: nomi 0.0.post1.dev2+ge9ded23\n",
      "    Uninstalling nomi-0.0.post1.dev2+ge9ded23:\n",
      "      Successfully uninstalled nomi-0.0.post1.dev2+ge9ded23\n",
      "  Running setup.py develop for latent-diffusion\n",
      "  Running setup.py develop for clip\n",
      "Successfully installed clip latent-diffusion-0.0.1 nomi-0.0.post1.dev2+ge9ded23 taming-transformers-0.0.1\n",
      "Defaulting to user installation because normal site-packages is not writeable\n",
      "Requirement already satisfied: keras in /home/provos/.local/lib/python3.10/site-packages (2.11.0)\n"
     ]
    }
   ],
   "source": [
    "%cd /home/ubuntu/niels-data\n",
    "!git clone --recurse-submodules git@github.com:provos/stable-diffusion-finetuning.git\n",
    "%cd stable-diffusion-finetuning\n",
    "!pip install --upgrade pip\n",
    "!pip install -r requirements.txt\n",
    "\n",
    "!pip install --upgrade keras # on lambda stack we need to upgrade keras"
   ]
  },
  {
   "cell_type": "markdown",
   "metadata": {},
   "source": [
    "Cache the big CLIP model that usually fails to download\n",
    "---"
   ]
  },
  {
   "cell_type": "code",
   "execution_count": 3,
   "metadata": {},
   "outputs": [
    {
     "data": {
      "application/vnd.jupyter.widget-view+json": {
       "model_id": "c815c59efcb04b6fbf53cc8805530f4f",
       "version_major": 2,
       "version_minor": 0
      },
      "text/plain": [
       "Resolving data files:   0%|          | 0/2196 [00:00<?, ?it/s]"
      ]
     },
     "metadata": {},
     "output_type": "display_data"
    },
    {
     "name": "stderr",
     "output_type": "stream",
     "text": [
      "Using custom data configuration default-c241fe195f21476b\n"
     ]
    },
    {
     "name": "stdout",
     "output_type": "stream",
     "text": [
      "Downloading and preparing dataset imagefolder/default to /home/ubuntu/niels-data/cache/imagefolder/default-c241fe195f21476b/0.0.0/0fc50c79b681877cc46b23245a6ef5333d036f48db40d53765a68034bc48faff...\n",
      "                "
     ]
    },
    {
     "data": {
      "application/vnd.jupyter.widget-view+json": {
       "model_id": "233af45fe0024be99522ea553cf21e7d",
       "version_major": 2,
       "version_minor": 0
      },
      "text/plain": [
       "Downloading data files #6:   0%|          | 0/68 [00:00<?, ?obj/s]"
      ]
     },
     "metadata": {},
     "output_type": "display_data"
    },
    {
     "data": {
      "application/vnd.jupyter.widget-view+json": {
       "model_id": "868d4d98aa2b47fe9161bb5282eaa80d",
       "version_major": 2,
       "version_minor": 0
      },
      "text/plain": [
       "Downloading data files #14:   0%|          | 0/68 [00:00<?, ?obj/s]"
      ]
     },
     "metadata": {},
     "output_type": "display_data"
    },
    {
     "data": {
      "application/vnd.jupyter.widget-view+json": {
       "model_id": "e6a9e169c21e41e88bf0fa19a753246b",
       "version_major": 2,
       "version_minor": 0
      },
      "text/plain": [
       "Downloading data files #11:   0%|          | 0/68 [00:00<?, ?obj/s]"
      ]
     },
     "metadata": {},
     "output_type": "display_data"
    },
    {
     "data": {
      "application/vnd.jupyter.widget-view+json": {
       "model_id": "65387450fe694af1880866aab95a5c45",
       "version_major": 2,
       "version_minor": 0
      },
      "text/plain": [
       "Downloading data files #4:   0%|          | 0/69 [00:00<?, ?obj/s]"
      ]
     },
     "metadata": {},
     "output_type": "display_data"
    },
    {
     "data": {
      "application/vnd.jupyter.widget-view+json": {
       "model_id": "b8f2b727305d4efab26a47bbaf0f5ec7",
       "version_major": 2,
       "version_minor": 0
      },
      "text/plain": [
       "Downloading data files #12:   0%|          | 0/68 [00:00<?, ?obj/s]"
      ]
     },
     "metadata": {},
     "output_type": "display_data"
    },
    {
     "data": {
      "application/vnd.jupyter.widget-view+json": {
       "model_id": "bbe959f1382a496b8f7a1576fbc7ffb6",
       "version_major": 2,
       "version_minor": 0
      },
      "text/plain": [
       "Downloading data files #15:   0%|          | 0/68 [00:00<?, ?obj/s]"
      ]
     },
     "metadata": {},
     "output_type": "display_data"
    },
    {
     "data": {
      "application/vnd.jupyter.widget-view+json": {
       "model_id": "e2e6024d3e7a4e93801fa60498afa8c7",
       "version_major": 2,
       "version_minor": 0
      },
      "text/plain": [
       "Downloading data files #13:   0%|          | 0/68 [00:00<?, ?obj/s]"
      ]
     },
     "metadata": {},
     "output_type": "display_data"
    },
    {
     "data": {
      "application/vnd.jupyter.widget-view+json": {
       "model_id": "605cdf99f9b74662bb490805607763eb",
       "version_major": 2,
       "version_minor": 0
      },
      "text/plain": [
       "Downloading data files #2:   0%|          | 0/69 [00:00<?, ?obj/s]"
      ]
     },
     "metadata": {},
     "output_type": "display_data"
    },
    {
     "data": {
      "application/vnd.jupyter.widget-view+json": {
       "model_id": "9a40061432944c5ea1e1bc4bef33fa88",
       "version_major": 2,
       "version_minor": 0
      },
      "text/plain": [
       "Downloading data files #9:   0%|          | 0/68 [00:00<?, ?obj/s]"
      ]
     },
     "metadata": {},
     "output_type": "display_data"
    },
    {
     "data": {
      "application/vnd.jupyter.widget-view+json": {
       "model_id": "b14a092422084bedb5806258f99a5a6b",
       "version_major": 2,
       "version_minor": 0
      },
      "text/plain": [
       "Downloading data files #8:   0%|          | 0/68 [00:00<?, ?obj/s]"
      ]
     },
     "metadata": {},
     "output_type": "display_data"
    },
    {
     "data": {
      "application/vnd.jupyter.widget-view+json": {
       "model_id": "6b22aa9237484f238644dbd999092c7e",
       "version_major": 2,
       "version_minor": 0
      },
      "text/plain": [
       "Downloading data files #10:   0%|          | 0/68 [00:00<?, ?obj/s]"
      ]
     },
     "metadata": {},
     "output_type": "display_data"
    },
    {
     "data": {
      "application/vnd.jupyter.widget-view+json": {
       "model_id": "5558f663d0a64eb7b09233d8a20dbf1a",
       "version_major": 2,
       "version_minor": 0
      },
      "text/plain": [
       "Downloading data files #0:   0%|          | 0/69 [00:00<?, ?obj/s]"
      ]
     },
     "metadata": {},
     "output_type": "display_data"
    },
    {
     "data": {
      "application/vnd.jupyter.widget-view+json": {
       "model_id": "505fe716c0e04980a9ed3365dca97df1",
       "version_major": 2,
       "version_minor": 0
      },
      "text/plain": [
       "Downloading data files #3:   0%|          | 0/69 [00:00<?, ?obj/s]"
      ]
     },
     "metadata": {},
     "output_type": "display_data"
    },
    {
     "data": {
      "application/vnd.jupyter.widget-view+json": {
       "model_id": "c9991c8227264cb79cb002f316f80872",
       "version_major": 2,
       "version_minor": 0
      },
      "text/plain": [
       "Downloading data files #1:   0%|          | 0/69 [00:00<?, ?obj/s]"
      ]
     },
     "metadata": {},
     "output_type": "display_data"
    },
    {
     "data": {
      "application/vnd.jupyter.widget-view+json": {
       "model_id": "7e491e8618dc4142862fea424e32036d",
       "version_major": 2,
       "version_minor": 0
      },
      "text/plain": [
       "Downloading data files #5:   0%|          | 0/68 [00:00<?, ?obj/s]"
      ]
     },
     "metadata": {},
     "output_type": "display_data"
    },
    {
     "data": {
      "application/vnd.jupyter.widget-view+json": {
       "model_id": "6a21cdc066d34250b8f71ce2c37f9d22",
       "version_major": 2,
       "version_minor": 0
      },
      "text/plain": [
       "Downloading data files #7:   0%|          | 0/68 [00:00<?, ?obj/s]"
      ]
     },
     "metadata": {},
     "output_type": "display_data"
    },
    {
     "name": "stdout",
     "output_type": "stream",
     "text": [
      "             "
     ]
    },
    {
     "data": {
      "application/vnd.jupyter.widget-view+json": {
       "model_id": "9d2ba442b5744774b85acee22501071c",
       "version_major": 2,
       "version_minor": 0
      },
      "text/plain": [
       "Downloading data files #1:   0%|          | 0/69 [00:00<?, ?obj/s]"
      ]
     },
     "metadata": {},
     "output_type": "display_data"
    },
    {
     "name": "stdout",
     "output_type": "stream",
     "text": [
      " "
     ]
    },
    {
     "data": {
      "application/vnd.jupyter.widget-view+json": {
       "model_id": "6f96d7aafaf445eb8c4cb7afcca383c0",
       "version_major": 2,
       "version_minor": 0
      },
      "text/plain": [
       "Downloading data files #0:   0%|          | 0/69 [00:00<?, ?obj/s]"
      ]
     },
     "metadata": {},
     "output_type": "display_data"
    },
    {
     "data": {
      "application/vnd.jupyter.widget-view+json": {
       "model_id": "c3c4546a1a1e43d68a0077a7833c06bc",
       "version_major": 2,
       "version_minor": 0
      },
      "text/plain": [
       "Downloading data files #4:   0%|          | 0/69 [00:00<?, ?obj/s]"
      ]
     },
     "metadata": {},
     "output_type": "display_data"
    },
    {
     "data": {
      "application/vnd.jupyter.widget-view+json": {
       "model_id": "981b8a21cdc1449c9052ee8a46a71af1",
       "version_major": 2,
       "version_minor": 0
      },
      "text/plain": [
       "Downloading data files #2:   0%|          | 0/69 [00:00<?, ?obj/s]"
      ]
     },
     "metadata": {},
     "output_type": "display_data"
    },
    {
     "data": {
      "application/vnd.jupyter.widget-view+json": {
       "model_id": "e01bfd8a465a4dab97d78f199ab707e9",
       "version_major": 2,
       "version_minor": 0
      },
      "text/plain": [
       "Downloading data files #5:   0%|          | 0/69 [00:00<?, ?obj/s]"
      ]
     },
     "metadata": {},
     "output_type": "display_data"
    },
    {
     "data": {
      "application/vnd.jupyter.widget-view+json": {
       "model_id": "715e12bf72e9492f9bc0ac4f1438697c",
       "version_major": 2,
       "version_minor": 0
      },
      "text/plain": [
       "Downloading data files #3:   0%|          | 0/69 [00:00<?, ?obj/s]"
      ]
     },
     "metadata": {},
     "output_type": "display_data"
    },
    {
     "name": "stdout",
     "output_type": "stream",
     "text": [
      " "
     ]
    },
    {
     "data": {
      "application/vnd.jupyter.widget-view+json": {
       "model_id": "3d2bbb283bb3499c9e1411ba2a3e6be0",
       "version_major": 2,
       "version_minor": 0
      },
      "text/plain": [
       "Downloading data files #8:   0%|          | 0/69 [00:00<?, ?obj/s]"
      ]
     },
     "metadata": {},
     "output_type": "display_data"
    },
    {
     "data": {
      "application/vnd.jupyter.widget-view+json": {
       "model_id": "9e4651b967fc4723a865a94e46999a7e",
       "version_major": 2,
       "version_minor": 0
      },
      "text/plain": [
       "Downloading data files #9:   0%|          | 0/69 [00:00<?, ?obj/s]"
      ]
     },
     "metadata": {},
     "output_type": "display_data"
    },
    {
     "name": "stdout",
     "output_type": "stream",
     "text": [
      " "
     ]
    },
    {
     "data": {
      "application/vnd.jupyter.widget-view+json": {
       "model_id": "2206e6dcedc54f45a9e0901ede1d24ca",
       "version_major": 2,
       "version_minor": 0
      },
      "text/plain": [
       "Downloading data files #6:   0%|          | 0/69 [00:00<?, ?obj/s]"
      ]
     },
     "metadata": {},
     "output_type": "display_data"
    },
    {
     "data": {
      "application/vnd.jupyter.widget-view+json": {
       "model_id": "150a0fc4abe246039521a9a9ad8afe13",
       "version_major": 2,
       "version_minor": 0
      },
      "text/plain": [
       "Downloading data files #10:   0%|          | 0/69 [00:00<?, ?obj/s]"
      ]
     },
     "metadata": {},
     "output_type": "display_data"
    },
    {
     "data": {
      "application/vnd.jupyter.widget-view+json": {
       "model_id": "da0119bcdb72448083253195e6e1923d",
       "version_major": 2,
       "version_minor": 0
      },
      "text/plain": [
       "Downloading data files #7:   0%|          | 0/69 [00:00<?, ?obj/s]"
      ]
     },
     "metadata": {},
     "output_type": "display_data"
    },
    {
     "data": {
      "application/vnd.jupyter.widget-view+json": {
       "model_id": "df5eb79a452142658db5cded4024e415",
       "version_major": 2,
       "version_minor": 0
      },
      "text/plain": [
       "Downloading data files #13:   0%|          | 0/69 [00:00<?, ?obj/s]"
      ]
     },
     "metadata": {},
     "output_type": "display_data"
    },
    {
     "data": {
      "application/vnd.jupyter.widget-view+json": {
       "model_id": "36f4791fbf684ffa829ed19116c3245a",
       "version_major": 2,
       "version_minor": 0
      },
      "text/plain": [
       "Downloading data files #12:   0%|          | 0/69 [00:00<?, ?obj/s]"
      ]
     },
     "metadata": {},
     "output_type": "display_data"
    },
    {
     "data": {
      "application/vnd.jupyter.widget-view+json": {
       "model_id": "40f757cd133b4539a206a9b356957696",
       "version_major": 2,
       "version_minor": 0
      },
      "text/plain": [
       "Downloading data files #11:   0%|          | 0/69 [00:00<?, ?obj/s]"
      ]
     },
     "metadata": {},
     "output_type": "display_data"
    },
    {
     "data": {
      "application/vnd.jupyter.widget-view+json": {
       "model_id": "3ea8c1943848460faa50d4e0545cf079",
       "version_major": 2,
       "version_minor": 0
      },
      "text/plain": [
       "Downloading data files #15:   0%|          | 0/68 [00:00<?, ?obj/s]"
      ]
     },
     "metadata": {},
     "output_type": "display_data"
    },
    {
     "data": {
      "application/vnd.jupyter.widget-view+json": {
       "model_id": "8568a29d45144b9dbe0b97c9e0bc2d64",
       "version_major": 2,
       "version_minor": 0
      },
      "text/plain": [
       "Downloading data files #14:   0%|          | 0/69 [00:00<?, ?obj/s]"
      ]
     },
     "metadata": {},
     "output_type": "display_data"
    },
    {
     "data": {
      "application/vnd.jupyter.widget-view+json": {
       "model_id": "02ecac3b72e742e7a427a65a91ef5382",
       "version_major": 2,
       "version_minor": 0
      },
      "text/plain": [
       "Extracting data files:   0%|          | 0/1103 [00:00<?, ?it/s]"
      ]
     },
     "metadata": {},
     "output_type": "display_data"
    },
    {
     "data": {
      "application/vnd.jupyter.widget-view+json": {
       "model_id": "250c81919d364694b35ba39f93992461",
       "version_major": 2,
       "version_minor": 0
      },
      "text/plain": [
       "Generating train split: 0 examples [00:00, ? examples/s]"
      ]
     },
     "metadata": {},
     "output_type": "display_data"
    },
    {
     "name": "stdout",
     "output_type": "stream",
     "text": [
      "Dataset imagefolder downloaded and prepared to /home/ubuntu/niels-data/cache/imagefolder/default-c241fe195f21476b/0.0.0/0fc50c79b681877cc46b23245a6ef5333d036f48db40d53765a68034bc48faff. Subsequent calls will reuse this data.\n"
     ]
    },
    {
     "data": {
      "text/plain": [
       "'a neon sign that says karaoke in a dark city at night time with neon lights'"
      ]
     },
     "execution_count": 3,
     "metadata": {},
     "output_type": "execute_result"
    }
   ],
   "source": [
    "from huggingface_hub import scan_cache_dir, hf_hub_download\n",
    "from datasets import load_dataset\n",
    "\n",
    "# cache big clip model\n",
    "hf_cache_info = scan_cache_dir()\n",
    "hf_hub_download(repo_id=\"openai/clip-vit-large-patch14\", filename=\"pytorch_model.bin\", resume_download=True)\n",
    "\n",
    "# cache dataset\n",
    "directory = './twitterdownloader/data/labeled/'\n",
    "dataset = load_dataset(\"imagefolder\", data_dir=directory, split=\"train\")\n",
    "dataset[0][\"text\"]"
   ]
  }
 ],
 "metadata": {
  "kernelspec": {
   "display_name": "Python 3.8.10 64-bit",
   "language": "python",
   "name": "python3"
  },
  "language_info": {
   "codemirror_mode": {
    "name": "ipython",
    "version": 3
   },
   "file_extension": ".py",
   "mimetype": "text/x-python",
   "name": "python",
   "nbconvert_exporter": "python",
   "pygments_lexer": "ipython3",
   "version": "3.10.6"
  },
  "orig_nbformat": 4,
  "vscode": {
   "interpreter": {
    "hash": "31f2aee4e71d21fbe5cf8b01ff0e069b9275f58929596ceb00d14d90e3e16cd6"
   }
  }
 },
 "nbformat": 4,
 "nbformat_minor": 2
}
