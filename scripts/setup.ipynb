{
 "cells": [
  {
   "cell_type": "markdown",
   "metadata": {},
   "source": [
    "Need to manually install python and jupyter into vscode\n",
    "---\n",
    "~~~\n",
    "sudo apt update\n",
    "sudo apt install python3-pip\n",
    "~~~\n",
    "\n",
    "Also ssh to git@github.com first"
   ]
  },
  {
   "cell_type": "code",
   "execution_count": null,
   "metadata": {},
   "outputs": [],
   "source": [
    "%env HF_DATASETS_CACHE=\"/home/ubuntu/niels-data/cache\"\n",
    "%cd /home/ubuntu/niels-data # where their filesystem is supposed to be\n",
    "!git clone git@github.com:provos/stable-diffusion-finetuning.git\n",
    "%cd stable-diffusion-finetuning\n",
    "!pip install --upgrade pip\n",
    "!pip install -r requirements.txt\n",
    "\n",
    "!pip install --upgrade keras # on lambda stack we need to upgrade keras"
   ]
  },
  {
   "cell_type": "markdown",
   "metadata": {},
   "source": [
    "Download the model that usually fails to download\n",
    "---"
   ]
  },
  {
   "cell_type": "code",
   "execution_count": null,
   "metadata": {},
   "outputs": [],
   "source": [
    "from huggingface_hub import scan_cache_dir, hf_hub_download\n",
    "\n",
    "hf_cache_info = scan_cache_dir()\n",
    "\n",
    "hf_hub_download(repo_id=\"openai/clip-vit-large-patch14\", filename=\"pytorch_model.bin\", resume_download=True)"
   ]
  }
 ],
 "metadata": {
  "kernelspec": {
   "display_name": "Python 3.9.15 ('stable-defusion')",
   "language": "python",
   "name": "python3"
  },
  "language_info": {
   "codemirror_mode": {
    "name": "ipython",
    "version": 3
   },
   "file_extension": ".py",
   "mimetype": "text/x-python",
   "name": "python",
   "nbconvert_exporter": "python",
   "pygments_lexer": "ipython3",
   "version": "3.9.15"
  },
  "orig_nbformat": 4,
  "vscode": {
   "interpreter": {
    "hash": "2edcb2161d1301f03f8a48f07487cab47a776b5d8362c3de071d8bd5923ba44f"
   }
  }
 },
 "nbformat": 4,
 "nbformat_minor": 2
}
